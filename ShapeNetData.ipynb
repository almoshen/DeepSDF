{
  "cells": [
    {
      "cell_type": "code",
      "execution_count": null,
      "metadata": {
        "colab": {
          "base_uri": "https://localhost:8080/"
        },
        "id": "iDrz7EvtkQ5y",
        "outputId": "21beb24b-4cd4-4a48-a0cf-14404c1b5660"
      },
      "outputs": [
        {
          "name": "stdout",
          "output_type": "stream",
          "text": [
            "Mounted at /content/drive\n"
          ]
        }
      ],
      "source": [
        "from google.colab import drive\n",
        "drive.mount('/content/drive')"
      ]
    },
    {
      "cell_type": "code",
      "execution_count": null,
      "metadata": {
        "colab": {
          "base_uri": "https://localhost:8080/"
        },
        "id": "s2xKDUjPlhg0",
        "outputId": "2689e1dc-b6d0-44d9-d186-e27f2e1afa1e"
      },
      "outputs": [
        {
          "name": "stdout",
          "output_type": "stream",
          "text": [
            "/content/drive/Shareddrives/Deep Elastics/Shen Projects/Github/DeepSDF\n"
          ]
        }
      ],
      "source": [
        "# %cd /content/drive/Shareddrives/Dataset_ShapeNetCore/data/\n",
        "%cd /content/drive/Shareddrives/Deep Elastics/Shen Projects/Github/DeepSDF"
      ]
    },
    {
      "cell_type": "code",
      "execution_count": null,
      "metadata": {
        "colab": {
          "base_uri": "https://localhost:8080/"
        },
        "id": "mGgGRPOn5m4v",
        "outputId": "c424f0b0-2161-4b03-b172-5287679d2013"
      },
      "outputs": [
        {
          "name": "stdout",
          "output_type": "stream",
          "text": [
            "Looking in indexes: https://pypi.org/simple, https://us-python.pkg.dev/colab-wheels/public/simple/\n",
            "Collecting mesh-to-sdf\n",
            "  Downloading mesh_to_sdf-0.0.14-py3-none-any.whl (14 kB)\n",
            "Collecting pyrender\n",
            "  Downloading pyrender-0.1.45-py3-none-any.whl (1.2 MB)\n",
            "\u001b[2K     \u001b[90m━━━━━━━━━━━━━━━━━━━━━━━━━━━━━━━━━━━━━━━━\u001b[0m \u001b[32m1.2/1.2 MB\u001b[0m \u001b[31m18.7 MB/s\u001b[0m eta \u001b[36m0:00:00\u001b[0m\n",
            "\u001b[?25hRequirement already satisfied: pyopengl in /usr/local/lib/python3.8/dist-packages (from mesh-to-sdf) (3.1.6)\n",
            "Requirement already satisfied: scikit-image in /usr/local/lib/python3.8/dist-packages (from mesh-to-sdf) (0.18.3)\n",
            "Collecting sklearn\n",
            "  Downloading sklearn-0.0.post1.tar.gz (3.6 kB)\n",
            "  \u001b[1;31merror\u001b[0m: \u001b[1msubprocess-exited-with-error\u001b[0m\n",
            "  \n",
            "  \u001b[31m×\u001b[0m \u001b[32mpython setup.py egg_info\u001b[0m did not run successfully.\n",
            "  \u001b[31m│\u001b[0m exit code: \u001b[1;36m1\u001b[0m\n",
            "  \u001b[31m╰─>\u001b[0m See above for output.\n",
            "  \n",
            "  \u001b[1;35mnote\u001b[0m: This error originates from a subprocess, and is likely not a problem with pip.\n",
            "  Preparing metadata (setup.py) ... \u001b[?25l\u001b[?25herror\n",
            "\u001b[1;31merror\u001b[0m: \u001b[1mmetadata-generation-failed\u001b[0m\n",
            "\n",
            "\u001b[31m×\u001b[0m Encountered error while generating package metadata.\n",
            "\u001b[31m╰─>\u001b[0m See above for output.\n",
            "\n",
            "\u001b[1;35mnote\u001b[0m: This is an issue with the package mentioned above, not pip.\n",
            "\u001b[1;36mhint\u001b[0m: See above for details.\n"
          ]
        }
      ],
      "source": [
        "!pip3 install mesh-to-sdf"
      ]
    },
    {
      "cell_type": "code",
      "execution_count": 1,
      "metadata": {
        "id": "IfOFTWIn5o2a"
      },
      "outputs": [
        {
          "name": "stderr",
          "output_type": "stream",
          "text": [
            "/home/shen/miniconda3/envs/pytorch3d/lib/python3.10/site-packages/scipy/__init__.py:146: UserWarning: A NumPy version >=1.16.5 and <1.23.0 is required for this version of SciPy (detected version 1.23.3\n",
            "  warnings.warn(f\"A NumPy version >={np_minversion} and <{np_maxversion}\"\n"
          ]
        }
      ],
      "source": [
        "import numpy as np\n",
        "import time\n",
        "import torch\n",
        "import torch.nn as nn\n",
        "import torch.nn.functional as F\n",
        "from torch.utils.data import TensorDataset, DataLoader\n",
        "from torch import optim\n",
        "import os\n",
        "import json\n",
        "import deep_sdf\n",
        "import logging\n",
        "from mesh_to_sdf import mesh_to_sdf, sample_sdf_near_surface\n",
        "import trimesh\n",
        "import pyrender\n"
      ]
    },
    {
      "cell_type": "code",
      "execution_count": 2,
      "metadata": {
        "id": "kkqVKxfQ5qiK"
      },
      "outputs": [],
      "source": [
        "os.environ['PYOPENGL_PLATFORM'] = 'egl'"
      ]
    },
    {
      "cell_type": "code",
      "execution_count": 3,
      "metadata": {
        "colab": {
          "base_uri": "https://localhost:8080/"
        },
        "id": "kFPHTLOS5r7i",
        "outputId": "eaa90b2f-8c0c-45e6-fc88-7efd6ccb2904"
      },
      "outputs": [
        {
          "name": "stderr",
          "output_type": "stream",
          "text": [
            "libEGL warning: MESA-LOADER: failed to open swrast: /usr/lib/dri/swrast_dri.so: cannot open shared object file: No such file or directory (search paths /usr/lib/x86_64-linux-gnu/dri:\\$${ORIGIN}/dri:/usr/lib/dri, suffix _dri)\n",
            "\n",
            "libEGL warning: MESA-LOADER: failed to open swrast: /usr/lib/dri/swrast_dri.so: cannot open shared object file: No such file or directory (search paths /usr/lib/x86_64-linux-gnu/dri:\\$${ORIGIN}/dri:/usr/lib/dri, suffix _dri)\n",
            "\n"
          ]
        },
        {
          "ename": "GLError",
          "evalue": "GLError(\n\terr = 12289,\n\tbaseOperation = eglInitialize,\n\tcArguments = (\n\t\t<OpenGL._opaque.EGLDisplay_pointer object at 0x7f35370a0d40>,\n\t\tc_long(0),\n\t\tc_long(0),\n\t),\n\tresult = 0\n)",
          "output_type": "error",
          "traceback": [
            "\u001b[0;31m---------------------------------------------------------------------------\u001b[0m",
            "\u001b[0;31mGLError\u001b[0m                                   Traceback (most recent call last)",
            "\u001b[1;32m/home/shen/DeepSDF/ShapeNetData.ipynb Cell 7\u001b[0m in \u001b[0;36m<cell line: 25>\u001b[0;34m()\u001b[0m\n\u001b[1;32m     <a href='vscode-notebook-cell://wsl%2Bubuntu/home/shen/DeepSDF/ShapeNetData.ipynb#X10sdnNjb2RlLXJlbW90ZQ%3D%3D?line=43'>44</a>\u001b[0m mesh \u001b[39m=\u001b[39m trimesh\u001b[39m.\u001b[39mload(mesh_filename)\n\u001b[1;32m     <a href='vscode-notebook-cell://wsl%2Bubuntu/home/shen/DeepSDF/ShapeNetData.ipynb#X10sdnNjb2RlLXJlbW90ZQ%3D%3D?line=44'>45</a>\u001b[0m \u001b[39m# points, fid = trimesh.sample.sample_surface(mesh, count=n_points)\u001b[39;00m\n\u001b[1;32m     <a href='vscode-notebook-cell://wsl%2Bubuntu/home/shen/DeepSDF/ShapeNetData.ipynb#X10sdnNjb2RlLXJlbW90ZQ%3D%3D?line=45'>46</a>\u001b[0m \u001b[39m# noise = np.random.normal(0, sigma, points.shape)\u001b[39;00m\n\u001b[1;32m     <a href='vscode-notebook-cell://wsl%2Bubuntu/home/shen/DeepSDF/ShapeNetData.ipynb#X10sdnNjb2RlLXJlbW90ZQ%3D%3D?line=46'>47</a>\u001b[0m \u001b[39m# noisy_points = points + noise\u001b[39;00m\n\u001b[0;32m---> <a href='vscode-notebook-cell://wsl%2Bubuntu/home/shen/DeepSDF/ShapeNetData.ipynb#X10sdnNjb2RlLXJlbW90ZQ%3D%3D?line=47'>48</a>\u001b[0m points, sdf \u001b[39m=\u001b[39m sample_sdf_near_surface(mesh, \u001b[39m500000\u001b[39;49m)\n\u001b[1;32m     <a href='vscode-notebook-cell://wsl%2Bubuntu/home/shen/DeepSDF/ShapeNetData.ipynb#X10sdnNjb2RlLXJlbW90ZQ%3D%3D?line=48'>49</a>\u001b[0m np\u001b[39m.\u001b[39msave(os\u001b[39m.\u001b[39mpath\u001b[39m.\u001b[39mjoin(processed_filepath, \u001b[39m'\u001b[39m\u001b[39mpoints.npy\u001b[39m\u001b[39m'\u001b[39m), points)\n\u001b[1;32m     <a href='vscode-notebook-cell://wsl%2Bubuntu/home/shen/DeepSDF/ShapeNetData.ipynb#X10sdnNjb2RlLXJlbW90ZQ%3D%3D?line=49'>50</a>\u001b[0m np\u001b[39m.\u001b[39msave(os\u001b[39m.\u001b[39mpath\u001b[39m.\u001b[39mjoin(processed_filepath, \u001b[39m'\u001b[39m\u001b[39msdf.npy\u001b[39m\u001b[39m'\u001b[39m), sdf)\n",
            "File \u001b[0;32m~/miniconda3/envs/pytorch3d/lib/python3.10/site-packages/mesh_to_sdf/__init__.py:59\u001b[0m, in \u001b[0;36msample_sdf_near_surface\u001b[0;34m(mesh, number_of_points, surface_point_method, sign_method, scan_count, scan_resolution, sample_point_count, normal_sample_count, min_size, return_gradients)\u001b[0m\n\u001b[1;32m     56\u001b[0m     \u001b[39mprint\u001b[39m(\u001b[39m\"\u001b[39m\u001b[39mIncompatible methods for sampling points and determining sign, using sign_method=\u001b[39m\u001b[39m'\u001b[39m\u001b[39mnormal\u001b[39m\u001b[39m'\u001b[39m\u001b[39m instead.\u001b[39m\u001b[39m\"\u001b[39m)\n\u001b[1;32m     57\u001b[0m     sign_method \u001b[39m=\u001b[39m \u001b[39m'\u001b[39m\u001b[39mnormal\u001b[39m\u001b[39m'\u001b[39m\n\u001b[0;32m---> 59\u001b[0m surface_point_cloud \u001b[39m=\u001b[39m get_surface_point_cloud(mesh, surface_point_method, \u001b[39m1\u001b[39;49m, scan_count, scan_resolution, sample_point_count, calculate_normals\u001b[39m=\u001b[39;49msign_method\u001b[39m==\u001b[39;49m\u001b[39m'\u001b[39;49m\u001b[39mnormal\u001b[39;49m\u001b[39m'\u001b[39;49m \u001b[39mor\u001b[39;49;00m return_gradients)\n\u001b[1;32m     61\u001b[0m \u001b[39mreturn\u001b[39;00m surface_point_cloud\u001b[39m.\u001b[39msample_sdf_near_surface(number_of_points, surface_point_method\u001b[39m==\u001b[39m\u001b[39m'\u001b[39m\u001b[39mscan\u001b[39m\u001b[39m'\u001b[39m, sign_method, normal_sample_count, min_size, return_gradients)\n",
            "File \u001b[0;32m~/miniconda3/envs/pytorch3d/lib/python3.10/site-packages/mesh_to_sdf/__init__.py:17\u001b[0m, in \u001b[0;36mget_surface_point_cloud\u001b[0;34m(mesh, surface_point_method, bounding_radius, scan_count, scan_resolution, sample_point_count, calculate_normals)\u001b[0m\n\u001b[1;32m     14\u001b[0m     bounding_radius \u001b[39m=\u001b[39m np\u001b[39m.\u001b[39mmax(np\u001b[39m.\u001b[39mlinalg\u001b[39m.\u001b[39mnorm(mesh\u001b[39m.\u001b[39mvertices, axis\u001b[39m=\u001b[39m\u001b[39m1\u001b[39m)) \u001b[39m*\u001b[39m \u001b[39m1.1\u001b[39m\n\u001b[1;32m     16\u001b[0m \u001b[39mif\u001b[39;00m surface_point_method \u001b[39m==\u001b[39m \u001b[39m'\u001b[39m\u001b[39mscan\u001b[39m\u001b[39m'\u001b[39m:\n\u001b[0;32m---> 17\u001b[0m     \u001b[39mreturn\u001b[39;00m surface_point_cloud\u001b[39m.\u001b[39;49mcreate_from_scans(mesh, bounding_radius\u001b[39m=\u001b[39;49mbounding_radius, scan_count\u001b[39m=\u001b[39;49mscan_count, scan_resolution\u001b[39m=\u001b[39;49mscan_resolution, calculate_normals\u001b[39m=\u001b[39;49mcalculate_normals)\n\u001b[1;32m     18\u001b[0m \u001b[39melif\u001b[39;00m surface_point_method \u001b[39m==\u001b[39m \u001b[39m'\u001b[39m\u001b[39msample\u001b[39m\u001b[39m'\u001b[39m:\n\u001b[1;32m     19\u001b[0m     \u001b[39mreturn\u001b[39;00m surface_point_cloud\u001b[39m.\u001b[39msample_from_mesh(mesh, sample_point_count\u001b[39m=\u001b[39msample_point_count, calculate_normals\u001b[39m=\u001b[39mcalculate_normals)        \n",
            "File \u001b[0;32m~/miniconda3/envs/pytorch3d/lib/python3.10/site-packages/mesh_to_sdf/surface_point_cloud.py:162\u001b[0m, in \u001b[0;36mcreate_from_scans\u001b[0;34m(mesh, bounding_radius, scan_count, scan_resolution, calculate_normals)\u001b[0m\n\u001b[1;32m    160\u001b[0m \u001b[39mfor\u001b[39;00m phi, theta \u001b[39min\u001b[39;00m get_equidistant_camera_angles(scan_count):\n\u001b[1;32m    161\u001b[0m     camera_transform \u001b[39m=\u001b[39m get_camera_transform_looking_at_origin(phi, theta, camera_distance\u001b[39m=\u001b[39m\u001b[39m2\u001b[39m \u001b[39m*\u001b[39m bounding_radius)\n\u001b[0;32m--> 162\u001b[0m     scans\u001b[39m.\u001b[39mappend(Scan(mesh,\n\u001b[1;32m    163\u001b[0m         camera_transform\u001b[39m=\u001b[39;49mcamera_transform,\n\u001b[1;32m    164\u001b[0m         resolution\u001b[39m=\u001b[39;49mscan_resolution,\n\u001b[1;32m    165\u001b[0m         calculate_normals\u001b[39m=\u001b[39;49mcalculate_normals,\n\u001b[1;32m    166\u001b[0m         fov\u001b[39m=\u001b[39;49m\u001b[39m1.0472\u001b[39;49m,\n\u001b[1;32m    167\u001b[0m         z_near\u001b[39m=\u001b[39;49mbounding_radius \u001b[39m*\u001b[39;49m \u001b[39m1\u001b[39;49m,\n\u001b[1;32m    168\u001b[0m         z_far\u001b[39m=\u001b[39;49mbounding_radius \u001b[39m*\u001b[39;49m \u001b[39m3\u001b[39;49m\n\u001b[1;32m    169\u001b[0m     ))\n\u001b[1;32m    171\u001b[0m \u001b[39mreturn\u001b[39;00m SurfacePointCloud(mesh, \n\u001b[1;32m    172\u001b[0m     points\u001b[39m=\u001b[39mnp\u001b[39m.\u001b[39mconcatenate([scan\u001b[39m.\u001b[39mpoints \u001b[39mfor\u001b[39;00m scan \u001b[39min\u001b[39;00m scans], axis\u001b[39m=\u001b[39m\u001b[39m0\u001b[39m),\n\u001b[1;32m    173\u001b[0m     normals\u001b[39m=\u001b[39mnp\u001b[39m.\u001b[39mconcatenate([scan\u001b[39m.\u001b[39mnormals \u001b[39mfor\u001b[39;00m scan \u001b[39min\u001b[39;00m scans], axis\u001b[39m=\u001b[39m\u001b[39m0\u001b[39m) \u001b[39mif\u001b[39;00m calculate_normals \u001b[39melse\u001b[39;00m \u001b[39mNone\u001b[39;00m,\n\u001b[1;32m    174\u001b[0m     scans\u001b[39m=\u001b[39mscans\n\u001b[1;32m    175\u001b[0m )\n",
            "File \u001b[0;32m~/miniconda3/envs/pytorch3d/lib/python3.10/site-packages/mesh_to_sdf/scan.py:61\u001b[0m, in \u001b[0;36mScan.__init__\u001b[0;34m(self, mesh, camera_transform, resolution, calculate_normals, fov, z_near, z_far)\u001b[0m\n\u001b[1;32m     58\u001b[0m camera \u001b[39m=\u001b[39m pyrender\u001b[39m.\u001b[39mPerspectiveCamera(yfov\u001b[39m=\u001b[39mfov, aspectRatio\u001b[39m=\u001b[39m\u001b[39m1.0\u001b[39m, znear \u001b[39m=\u001b[39m z_near, zfar \u001b[39m=\u001b[39m z_far)\n\u001b[1;32m     59\u001b[0m \u001b[39mself\u001b[39m\u001b[39m.\u001b[39mprojection_matrix \u001b[39m=\u001b[39m camera\u001b[39m.\u001b[39mget_projection_matrix()\n\u001b[0;32m---> 61\u001b[0m color, depth \u001b[39m=\u001b[39m render_normal_and_depth_buffers(mesh, camera, \u001b[39mself\u001b[39;49m\u001b[39m.\u001b[39;49mcamera_transform, resolution)\n\u001b[1;32m     63\u001b[0m \u001b[39mself\u001b[39m\u001b[39m.\u001b[39mnormal_buffer \u001b[39m=\u001b[39m color \u001b[39mif\u001b[39;00m calculate_normals \u001b[39melse\u001b[39;00m \u001b[39mNone\u001b[39;00m\n\u001b[1;32m     64\u001b[0m \u001b[39mself\u001b[39m\u001b[39m.\u001b[39mdepth_buffer \u001b[39m=\u001b[39m depth\u001b[39m.\u001b[39mcopy()\n",
            "File \u001b[0;32m~/miniconda3/envs/pytorch3d/lib/python3.10/site-packages/mesh_to_sdf/pyrender_wrapper.py:58\u001b[0m, in \u001b[0;36mrender_normal_and_depth_buffers\u001b[0;34m(mesh, camera, camera_transform, resolution)\u001b[0m\n\u001b[1;32m     55\u001b[0m scene\u001b[39m.\u001b[39madd(pyrender\u001b[39m.\u001b[39mMesh\u001b[39m.\u001b[39mfrom_trimesh(mesh, smooth \u001b[39m=\u001b[39m \u001b[39mFalse\u001b[39;00m))\n\u001b[1;32m     56\u001b[0m scene\u001b[39m.\u001b[39madd(camera, pose\u001b[39m=\u001b[39mcamera_transform)\n\u001b[0;32m---> 58\u001b[0m renderer \u001b[39m=\u001b[39m pyrender\u001b[39m.\u001b[39;49mOffscreenRenderer(resolution, resolution)\n\u001b[1;32m     59\u001b[0m renderer\u001b[39m.\u001b[39m_renderer\u001b[39m.\u001b[39m_program_cache \u001b[39m=\u001b[39m CustomShaderCache()\n\u001b[1;32m     61\u001b[0m color, depth \u001b[39m=\u001b[39m renderer\u001b[39m.\u001b[39mrender(scene, flags\u001b[39m=\u001b[39mpyrender\u001b[39m.\u001b[39mRenderFlags\u001b[39m.\u001b[39mSKIP_CULL_FACES)\n",
            "File \u001b[0;32m~/miniconda3/envs/pytorch3d/lib/python3.10/site-packages/pyrender/offscreen.py:31\u001b[0m, in \u001b[0;36mOffscreenRenderer.__init__\u001b[0;34m(self, viewport_width, viewport_height, point_size)\u001b[0m\n\u001b[1;32m     29\u001b[0m \u001b[39mself\u001b[39m\u001b[39m.\u001b[39m_platform \u001b[39m=\u001b[39m \u001b[39mNone\u001b[39;00m\n\u001b[1;32m     30\u001b[0m \u001b[39mself\u001b[39m\u001b[39m.\u001b[39m_renderer \u001b[39m=\u001b[39m \u001b[39mNone\u001b[39;00m\n\u001b[0;32m---> 31\u001b[0m \u001b[39mself\u001b[39;49m\u001b[39m.\u001b[39;49m_create()\n",
            "File \u001b[0;32m~/miniconda3/envs/pytorch3d/lib/python3.10/site-packages/pyrender/offscreen.py:149\u001b[0m, in \u001b[0;36mOffscreenRenderer._create\u001b[0;34m(self)\u001b[0m\n\u001b[1;32m    145\u001b[0m \u001b[39melse\u001b[39;00m:\n\u001b[1;32m    146\u001b[0m     \u001b[39mraise\u001b[39;00m \u001b[39mValueError\u001b[39;00m(\u001b[39m'\u001b[39m\u001b[39mUnsupported PyOpenGL platform: \u001b[39m\u001b[39m{}\u001b[39;00m\u001b[39m'\u001b[39m\u001b[39m.\u001b[39mformat(\n\u001b[1;32m    147\u001b[0m         os\u001b[39m.\u001b[39menviron[\u001b[39m'\u001b[39m\u001b[39mPYOPENGL_PLATFORM\u001b[39m\u001b[39m'\u001b[39m]\n\u001b[1;32m    148\u001b[0m     ))\n\u001b[0;32m--> 149\u001b[0m \u001b[39mself\u001b[39;49m\u001b[39m.\u001b[39;49m_platform\u001b[39m.\u001b[39;49minit_context()\n\u001b[1;32m    150\u001b[0m \u001b[39mself\u001b[39m\u001b[39m.\u001b[39m_platform\u001b[39m.\u001b[39mmake_current()\n\u001b[1;32m    151\u001b[0m \u001b[39mself\u001b[39m\u001b[39m.\u001b[39m_renderer \u001b[39m=\u001b[39m Renderer(\u001b[39mself\u001b[39m\u001b[39m.\u001b[39mviewport_width, \u001b[39mself\u001b[39m\u001b[39m.\u001b[39mviewport_height)\n",
            "File \u001b[0;32m~/miniconda3/envs/pytorch3d/lib/python3.10/site-packages/pyrender/platforms/egl.py:177\u001b[0m, in \u001b[0;36mEGLPlatform.init_context\u001b[0;34m(self)\u001b[0m\n\u001b[1;32m    174\u001b[0m     os\u001b[39m.\u001b[39menviron[\u001b[39m'\u001b[39m\u001b[39mDISPLAY\u001b[39m\u001b[39m'\u001b[39m] \u001b[39m=\u001b[39m orig_dpy\n\u001b[1;32m    176\u001b[0m \u001b[39m# Initialize EGL\u001b[39;00m\n\u001b[0;32m--> 177\u001b[0m \u001b[39massert\u001b[39;00m eglInitialize(\u001b[39mself\u001b[39;49m\u001b[39m.\u001b[39;49m_egl_display, major, minor)\n\u001b[1;32m    178\u001b[0m \u001b[39massert\u001b[39;00m eglChooseConfig(\n\u001b[1;32m    179\u001b[0m     \u001b[39mself\u001b[39m\u001b[39m.\u001b[39m_egl_display, config_attributes, configs, \u001b[39m1\u001b[39m, num_configs\n\u001b[1;32m    180\u001b[0m )\n\u001b[1;32m    182\u001b[0m \u001b[39m# Bind EGL to the OpenGL API\u001b[39;00m\n",
            "File \u001b[0;32m~/miniconda3/envs/pytorch3d/lib/python3.10/site-packages/OpenGL/platform/baseplatform.py:402\u001b[0m, in \u001b[0;36m_NullFunctionPointer.__call__\u001b[0;34m(self, *args, **named)\u001b[0m\n\u001b[1;32m    400\u001b[0m \u001b[39mdef\u001b[39;00m \u001b[39m__call__\u001b[39m( \u001b[39mself\u001b[39m, \u001b[39m*\u001b[39margs, \u001b[39m*\u001b[39m\u001b[39m*\u001b[39mnamed ):\n\u001b[1;32m    401\u001b[0m     \u001b[39mif\u001b[39;00m \u001b[39mself\u001b[39m\u001b[39m.\u001b[39mload():\n\u001b[0;32m--> 402\u001b[0m         \u001b[39mreturn\u001b[39;00m \u001b[39mself\u001b[39;49m( \u001b[39m*\u001b[39;49margs, \u001b[39m*\u001b[39;49m\u001b[39m*\u001b[39;49mnamed )\n\u001b[1;32m    403\u001b[0m     \u001b[39melse\u001b[39;00m:\n\u001b[1;32m    404\u001b[0m         \u001b[39mfrom\u001b[39;00m \u001b[39mOpenGL\u001b[39;00m \u001b[39mimport\u001b[39;00m error\n",
            "File \u001b[0;32m~/miniconda3/envs/pytorch3d/lib/python3.10/site-packages/OpenGL/error.py:228\u001b[0m, in \u001b[0;36m_ErrorChecker.glCheckError\u001b[0;34m(self, result, baseOperation, cArguments, *args)\u001b[0m\n\u001b[1;32m    226\u001b[0m err \u001b[39m=\u001b[39m \u001b[39mself\u001b[39m\u001b[39m.\u001b[39m_currentChecker()\n\u001b[1;32m    227\u001b[0m \u001b[39mif\u001b[39;00m err \u001b[39m!=\u001b[39m \u001b[39mself\u001b[39m\u001b[39m.\u001b[39m_noErrorResult:\n\u001b[0;32m--> 228\u001b[0m     \u001b[39mraise\u001b[39;00m GLError(\n\u001b[1;32m    229\u001b[0m         err,\n\u001b[1;32m    230\u001b[0m         result,\n\u001b[1;32m    231\u001b[0m         cArguments \u001b[39m=\u001b[39m cArguments,\n\u001b[1;32m    232\u001b[0m         baseOperation \u001b[39m=\u001b[39m baseOperation,\n\u001b[1;32m    233\u001b[0m     )\n\u001b[1;32m    234\u001b[0m \u001b[39mreturn\u001b[39;00m result\n",
            "\u001b[0;31mGLError\u001b[0m: GLError(\n\terr = 12289,\n\tbaseOperation = eglInitialize,\n\tcArguments = (\n\t\t<OpenGL._opaque.EGLDisplay_pointer object at 0x7f35370a0d40>,\n\t\tc_long(0),\n\t\tc_long(0),\n\t),\n\tresult = 0\n)"
          ]
        }
      ],
      "source": [
        "split_filename = 'examples/splits/sv2_sofas_train.json'\n",
        "source_name = 'ShapeNetV2'\n",
        "data_dir = \"/mnt/g/Shared drives/Deep Elastics/Shen Projects/Github/DeepSDF/data\"\n",
        "source_dir = '/mnt/g/Shared drives/Dataset_ShapeNetCore/data/ShapeNetCore.v2/'\n",
        "subdir = 'SdfSamples'\n",
        "dest_dir = os.path.join(data_dir, subdir, source_name)\n",
        "\n",
        "surface_sampling = False\n",
        "n_points = 500000\n",
        "sigma = 0.0025\n",
        "\n",
        "if not os.path.isdir(data_dir):\n",
        "    os.mkdir(data_dir)\n",
        "\n",
        "if not os.path.isdir(os.path.join(data_dir, subdir)):\n",
        "    os.mkdir(os.path.join(data_dir, subdir))\n",
        "\n",
        "if not os.path.isdir(dest_dir):\n",
        "    os.mkdir(dest_dir)\n",
        "\n",
        "with open(split_filename) as f:\n",
        "    split = json.load(f)\n",
        "\n",
        "class_directories = split[source_name]\n",
        "for class_dir in class_directories:\n",
        "  class_path = os.path.join(source_dir, class_dir)\n",
        "  instance_dirs = class_directories[class_dir]\n",
        "  target_dir = os.path.join(dest_dir, class_dir)\n",
        "  if not os.path.isdir(target_dir):\n",
        "    os.mkdir(target_dir)\n",
        "  for instance_dir in instance_dirs:\n",
        "    shape_dir = os.path.join(class_path, instance_dir)\n",
        "    if os.path.isdir(shape_dir):\n",
        "      processed_filepath = os.path.join(target_dir, instance_dir)\n",
        "      if os.path.isdir(processed_filepath):\n",
        "        logging.debug(\"skipping \" + processed_filepath)\n",
        "        print(\"skipping \" + processed_filepath)\n",
        "        continue\n",
        "      else:\n",
        "        os.mkdir(processed_filepath)\n",
        "\n",
        "      try:\n",
        "        mesh_filename = deep_sdf.data.find_mesh_in_directory(shape_dir)\n",
        "        mesh = trimesh.load(mesh_filename)\n",
        "        # points, fid = trimesh.sample.sample_surface(mesh, count=n_points)\n",
        "        # noise = np.random.normal(0, sigma, points.shape)\n",
        "        # noisy_points = points + noise\n",
        "        points, sdf = sample_sdf_near_surface(mesh, 500000)\n",
        "        np.save(os.path.join(processed_filepath, 'points.npy'), points)\n",
        "        np.save(os.path.join(processed_filepath, 'sdf.npy'), sdf)\n",
        "\n",
        "      except deep_sdf.data.NoMeshFileError:\n",
        "        logging.warning(\"No mesh found for instance \" + instance_dir)\n",
        "      except deep_sdf.data.MultipleMeshFileError:\n",
        "        logging.warning(\"Multiple meshes found for instance \" + instance_dir)\n",
        "    \n",
        "\n",
        "# for file_name in data:\n",
        "#     # full_file_name = os.path.join('/content/drive/Shareddrives/Dataset_ShapeNetCore/data/ShapeNetCore.v2/03001627/', file_name + '/models/model_normalized.obj')\n",
        "#     if os.path.isdir(file_name):\n",
        "#       mesh = trimesh.load('model_normalized.obj')\n",
        "#       points, sdf = sample_sdf_near_surface(mesh, number_of_points=500000)\n",
        "\n",
        "\n",
        "\n"
      ]
    },
    {
      "cell_type": "markdown",
      "metadata": {
        "id": "Da1iEPwZ8F3y"
      },
      "source": [
        "Categories\n",
        "```\n",
        "04379243 table \n",
        "03710193 mailboxv\n",
        "04530566 watercraft\n",
        "03790512 motorbike\n",
        "03207941 dishwasher\n",
        "02828884 bench\n",
        "03948459 pistol\n",
        "04099429 rocket\n",
        "03691459 loudspeaker\n",
        "03337140 file cabinet\n",
        "02773838 bag \n",
        "02933112 cabinet\n",
        "02818832 bed\n",
        "02843684 birdhouse\n",
        "03593526 jar \n",
        "03211117 display\n",
        "03928116 piano\n",
        "03261776 earphone\n",
        "04401088 telephone\n",
        "04225987 skateboard \n",
        "04330267 stove\n",
        "03759954 microphone\n",
        "02924116 bus\n",
        "03797390 mug\n",
        "02958343 car\n",
        "04074963 remote\n",
        "02808440 bathtub\n",
        "02880940 bowl\n",
        "03085013 keyboard\n",
        "02876657 bottle\n",
        "03467517 guitar\n",
        "04554684 washer\n",
        "02834778 bicycle\n",
        "03325088 faucet\n",
        "04460130 tower\n",
        "04004475 printer\n",
        "02954340 cap\n",
        "03001627 chair\n",
        "02871439 bookshelf\n",
        "02942699 camera\n",
        "02691156 airplane\n",
        "03642806 laptop\n",
        "02801938 basket\n",
        "04256520 sofa\n",
        "03624134 knife\n",
        "02946921 can\n",
        "04090263 rifle\n",
        "04468005 train\n",
        "03938244 pillow\n",
        "03636649 lamp\n",
        "02747177 trash bin\n",
        "```\n",
        "\n"
      ]
    }
  ],
  "metadata": {
    "accelerator": "GPU",
    "colab": {
      "machine_shape": "hm",
      "provenance": []
    },
    "gpuClass": "standard",
    "kernelspec": {
      "display_name": "pytorch3d",
      "language": "python",
      "name": "python3"
    },
    "language_info": {
      "codemirror_mode": {
        "name": "ipython",
        "version": 3
      },
      "file_extension": ".py",
      "mimetype": "text/x-python",
      "name": "python",
      "nbconvert_exporter": "python",
      "pygments_lexer": "ipython3",
      "version": "3.10.6"
    },
    "vscode": {
      "interpreter": {
        "hash": "95a0ae259b343f4f71c9f211f39f358f9e9b3e9954dcbcdbd26b53651926915f"
      }
    }
  },
  "nbformat": 4,
  "nbformat_minor": 0
}
